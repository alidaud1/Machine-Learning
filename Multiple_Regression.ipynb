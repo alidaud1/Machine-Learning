{
  "nbformat": 4,
  "nbformat_minor": 0,
  "metadata": {
    "colab": {
      "provenance": [],
      "mount_file_id": "1-9NAbHe55p1tX7F6NBjdH1B_sDVSBQVb",
      "authorship_tag": "ABX9TyNNwwQTbe+cGhICm4aK4yvr",
      "include_colab_link": true
    },
    "kernelspec": {
      "name": "python3",
      "display_name": "Python 3"
    },
    "language_info": {
      "name": "python"
    }
  },
  "cells": [
    {
      "cell_type": "markdown",
      "metadata": {
        "id": "view-in-github",
        "colab_type": "text"
      },
      "source": [
        "<a href=\"https://colab.research.google.com/github/alidaud1/Machine-Learning/blob/main/Multiple_Regression.ipynb\" target=\"_parent\"><img src=\"https://colab.research.google.com/assets/colab-badge.svg\" alt=\"Open In Colab\"/></a>"
      ]
    },
    {
      "cell_type": "code",
      "source": [
        "# Multiple Regression\n",
        "import pandas\n",
        "from sklearn import linear_model\n",
        "\n",
        "data = pandas.read_csv(\"/content/drive/MyDrive/Colab Notebooks/Data Sets/data.csv\")\n",
        "\n",
        "X = data[['Weight','Volume']]\n",
        "y = data['CO2']\n",
        "\n",
        "regr = linear_model.LinearRegression()\n",
        "regr.fit(X,y)\n",
        "\n",
        "predicted_CO2 = regr.predict([[3300,1300]])\n",
        "print(predicted_CO2)"
      ],
      "metadata": {
        "colab": {
          "base_uri": "https://localhost:8080/"
        },
        "id": "hVux2_vzEMH0",
        "outputId": "c1b405a1-86fb-439b-b476-28f413c3f946"
      },
      "execution_count": null,
      "outputs": [
        {
          "output_type": "stream",
          "name": "stdout",
          "text": [
            "[114.75968007]\n"
          ]
        },
        {
          "output_type": "stream",
          "name": "stderr",
          "text": [
            "/usr/local/lib/python3.8/dist-packages/sklearn/base.py:450: UserWarning: X does not have valid feature names, but LinearRegression was fitted with feature names\n",
            "  warnings.warn(\n"
          ]
        }
      ]
    },
    {
      "cell_type": "code",
      "source": [
        "# Print the coefficient values of the regression object\n",
        "import pandas\n",
        "from sklearn import linear_model\n",
        "\n",
        "data = pandas.read_csv(\"/content/drive/MyDrive/Colab Notebooks/Data Sets/data.csv\")\n",
        "x = data[['Weight','Volume']]\n",
        "y = data['CO2']\n",
        "\n",
        "regr = linear_model.LinearRegression()\n",
        "regr.fit(x,y)\n",
        "\n",
        "print(regr.coef_)"
      ],
      "metadata": {
        "colab": {
          "base_uri": "https://localhost:8080/"
        },
        "id": "vhB42n62L_ZG",
        "outputId": "b1656385-dea5-46da-dc46-740e6902763b"
      },
      "execution_count": null,
      "outputs": [
        {
          "output_type": "stream",
          "name": "stdout",
          "text": [
            "[0.00755095 0.00780526]\n"
          ]
        }
      ]
    },
    {
      "cell_type": "code",
      "source": [
        "# Linear Regression\n",
        "import matplotlib.pyplot as plt\n",
        "from scipy import stats\n",
        "import pandas\n",
        "\n",
        "values = pandas.read_csv(\"/content/drive/MyDrive/Colab Notebooks/Data Sets/SOCR_HeightWeight.csv\")\n",
        "X = values['Height(Inches)']\n",
        "y = values['Weight(Pounds)']\n",
        "\n",
        "slope,intercept,r,p,std_err = stats.linregress(X,y)\n",
        "\n",
        "def myfun(X):\n",
        "  return slope*X + intercept\n",
        "\n",
        "predict = myfun(71.625)\n",
        "print(predict)"
      ],
      "metadata": {
        "colab": {
          "base_uri": "https://localhost:8080/"
        },
        "id": "wk_7b3oK1rp3",
        "outputId": "5583bbf8-6660-4de6-cf72-94ad5e60b471"
      },
      "execution_count": null,
      "outputs": [
        {
          "output_type": "stream",
          "name": "stdout",
          "text": [
            "138.27825733744652\n"
          ]
        }
      ]
    }
  ]
}