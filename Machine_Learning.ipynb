{
  "nbformat": 4,
  "nbformat_minor": 0,
  "metadata": {
    "colab": {
      "provenance": [],
      "authorship_tag": "ABX9TyPh51BMv7X+fewBgafXZgCA",
      "include_colab_link": true
    },
    "kernelspec": {
      "name": "python3",
      "display_name": "Python 3"
    },
    "language_info": {
      "name": "python"
    }
  },
  "cells": [
    {
      "cell_type": "markdown",
      "metadata": {
        "id": "view-in-github",
        "colab_type": "text"
      },
      "source": [
        "<a href=\"https://colab.research.google.com/github/alidaud1/Machine-Learning/blob/main/Machine_Learning.ipynb\" target=\"_parent\"><img src=\"https://colab.research.google.com/assets/colab-badge.svg\" alt=\"Open In Colab\"/></a>"
      ]
    },
    {
      "cell_type": "code",
      "execution_count": null,
      "metadata": {
        "colab": {
          "base_uri": "https://localhost:8080/"
        },
        "id": "PEJ3cvF5fPLd",
        "outputId": "a0342f4d-375d-46c7-e496-87058bf935da"
      },
      "outputs": [
        {
          "output_type": "stream",
          "name": "stdout",
          "text": [
            "34.77777777777778 35.0 ModeResult(mode=array([36]), count=array([2]))\n"
          ]
        }
      ],
      "source": [
        "# Mean , Meadian , Mode\n",
        "import numpy\n",
        "from scipy import stats\n",
        "values = [34,36,31,37,39,33,36,32,35]\n",
        "x = numpy.mean(values)\n",
        "y = numpy.median(values)\n",
        "z = stats.mode(values)\n",
        "print(x,y,z)"
      ]
    },
    {
      "cell_type": "code",
      "source": [
        "# Standard Deviation , Variance\n",
        "import numpy\n",
        "values = [34,36,31,37,39,33,36,32,35]\n",
        "x = numpy.std(values)\n",
        "y = numpy.var(values)\n",
        "print(x,y)"
      ],
      "metadata": {
        "colab": {
          "base_uri": "https://localhost:8080/"
        },
        "id": "Q8cjT0tRgq7C",
        "outputId": "2165ab5c-6e87-41c3-c4de-34a97525a705"
      },
      "execution_count": null,
      "outputs": [
        {
          "output_type": "stream",
          "name": "stdout",
          "text": [
            "2.3934065809486684 5.728395061728396\n"
          ]
        }
      ]
    },
    {
      "cell_type": "code",
      "source": [
        "# Percentiles\n",
        "import numpy\n",
        "ages = [21,34,23,56,38,26,25,51,18,20]\n",
        "x = numpy.percentile(ages,50)\n",
        "print(x)"
      ],
      "metadata": {
        "colab": {
          "base_uri": "https://localhost:8080/"
        },
        "id": "8b-rc2F-lf3I",
        "outputId": "7e79c8e6-007b-4333-a856-0561a4b08ae2"
      },
      "execution_count": null,
      "outputs": [
        {
          "output_type": "stream",
          "name": "stdout",
          "text": [
            "25.5\n"
          ]
        }
      ]
    },
    {
      "cell_type": "code",
      "source": [
        "# Creating big data sets\n",
        "import numpy\n",
        "\n",
        "x = numpy.random.uniform(0.0, 50.0, 200000)\n",
        "\n",
        "print(x)\n"
      ],
      "metadata": {
        "colab": {
          "base_uri": "https://localhost:8080/"
        },
        "id": "xaZV-QaDpUjs",
        "outputId": "69cdace9-bf0c-4943-c57a-a06dfd7f4c8c"
      },
      "execution_count": null,
      "outputs": [
        {
          "output_type": "stream",
          "name": "stdout",
          "text": [
            "[43.69314745 42.01847535 26.66570152 ... 49.49731987 42.34035407\n",
            " 34.56132149]\n"
          ]
        }
      ]
    },
    {
      "cell_type": "code",
      "source": [
        "# Histogram\n",
        "import numpy\n",
        "import matplotlib.pyplot as plt\n",
        "ages = [23,12,25,45,64,34,56,77,56,32,21]\n",
        "plt.hist(ages)\n",
        "plt.show()"
      ],
      "metadata": {
        "colab": {
          "base_uri": "https://localhost:8080/",
          "height": 265
        },
        "id": "qkiZjAY_1yxu",
        "outputId": "c50f0060-8a92-4bfb-a9e9-7be42cc35f30"
      },
      "execution_count": null,
      "outputs": [
        {
          "output_type": "display_data",
          "data": {
            "text/plain": [
              "<Figure size 432x288 with 1 Axes>"
            ],
            "image/png": "[encoded data removed]"
          },
          "metadata": {
            "needs_background": "light"
          }
        }
      ]
    },
    {
      "cell_type": "code",
      "source": [
        "# Normal Data Distributuion\n",
        "import numpy\n",
        "import matplotlib.pyplot as plt\n",
        "x = numpy.random.normal(5.0,1.0,100000)\n",
        "plt.hist(x,100)\n",
        "plt.show()\n"
      ],
      "metadata": {
        "colab": {
          "base_uri": "https://localhost:8080/",
          "height": 266
        },
        "id": "6X0UBXKo2kG1",
        "outputId": "15e4df7d-2030-419a-8769-9be8c968fff5"
      },
      "execution_count": null,
      "outputs": [
        {
          "output_type": "display_data",
          "data": {
            "text/plain": [
              "<Figure size 432x288 with 1 Axes>"
            ],
            "image/png": "[encoded data removed]"
          },
          "metadata": {
            "needs_background": "light"
          }
        }
      ]
    },
    {
      "cell_type": "code",
      "source": [
        "# Scatter plot\n",
        "import numpy\n",
        "import matplotlib.pyplot as plt\n",
        "x = numpy.random.normal(5.0,1.0,1000)\n",
        "y = numpy.random.normal(10.0,2.0,1000)\n",
        "plt.scatter(x,y)\n",
        "plt.show()"
      ],
      "metadata": {
        "colab": {
          "base_uri": "https://localhost:8080/",
          "height": 265
        },
        "id": "PHFfZntW-UYY",
        "outputId": "c9725f59-5e00-4b4c-8273-52398634fc3b"
      },
      "execution_count": null,
      "outputs": [
        {
          "output_type": "display_data",
          "data": {
            "text/plain": [
              "<Figure size 432x288 with 1 Axes>"
            ],
            "image/png": "[encoded data removed]"
          },
          "metadata": {
            "needs_background": "light"
          }
        }
      ]
    }
  ]
}