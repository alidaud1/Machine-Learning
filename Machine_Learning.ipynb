{
  "nbformat": 4,
  "nbformat_minor": 0,
  "metadata": {
    "colab": {
      "provenance": [],
      "authorship_tag": "ABX9TyPaX9e9MphdjYQF9zpwE0ZM",
      "include_colab_link": true
    },
    "kernelspec": {
      "name": "python3",
      "display_name": "Python 3"
    },
    "language_info": {
      "name": "python"
    }
  },
  "cells": [
    {
      "cell_type": "markdown",
      "metadata": {
        "id": "view-in-github",
        "colab_type": "text"
      },
      "source": [
        "<a href=\"https://colab.research.google.com/github/alidaud1/Machine-Learning/blob/main/Machine_Learning.ipynb\" target=\"_parent\"><img src=\"https://colab.research.google.com/assets/colab-badge.svg\" alt=\"Open In Colab\"/></a>"
      ]
    },
    {
      "cell_type": "code",
      "execution_count": 1,
      "metadata": {
        "colab": {
          "base_uri": "https://localhost:8080/"
        },
        "id": "PEJ3cvF5fPLd",
        "outputId": "a0342f4d-375d-46c7-e496-87058bf935da"
      },
      "outputs": [
        {
          "output_type": "stream",
          "name": "stdout",
          "text": [
            "34.77777777777778 35.0 ModeResult(mode=array([36]), count=array([2]))\n"
          ]
        }
      ],
      "source": [
        "# Mean , Meadian , Mode\n",
        "import numpy\n",
        "from scipy import stats\n",
        "values = [34,36,31,37,39,33,36,32,35]\n",
        "x = numpy.mean(values)\n",
        "y = numpy.median(values)\n",
        "z = stats.mode(values)\n",
        "print(x,y,z)"
      ]
    },
    {
      "cell_type": "code",
      "source": [
        "# Standard Deviation , Variance\n",
        "import numpy\n",
        "values = [34,36,31,37,39,33,36,32,35]\n",
        "x = numpy.std(values)\n",
        "y = numpy.var(values)\n",
        "print(x,y)"
      ],
      "metadata": {
        "colab": {
          "base_uri": "https://localhost:8080/"
        },
        "id": "Q8cjT0tRgq7C",
        "outputId": "2165ab5c-6e87-41c3-c4de-34a97525a705"
      },
      "execution_count": 5,
      "outputs": [
        {
          "output_type": "stream",
          "name": "stdout",
          "text": [
            "2.3934065809486684 5.728395061728396\n"
          ]
        }
      ]
    },
    {
      "cell_type": "code",
      "source": [
        "# Percentiles\n",
        "import numpy\n",
        "ages = [21,34,23,56,38,26,25,51,18,20]\n",
        "x = numpy.percentile(ages,50)\n",
        "print(x)"
      ],
      "metadata": {
        "colab": {
          "base_uri": "https://localhost:8080/"
        },
        "id": "8b-rc2F-lf3I",
        "outputId": "7e79c8e6-007b-4333-a856-0561a4b08ae2"
      },
      "execution_count": 7,
      "outputs": [
        {
          "output_type": "stream",
          "name": "stdout",
          "text": [
            "25.5\n"
          ]
        }
      ]
    }
  ]
}